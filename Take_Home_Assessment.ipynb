{
 "cells": [
  {
   "cell_type": "markdown",
   "id": "ee36b520",
   "metadata": {},
   "source": [
    "### Check paths exists"
   ]
  },
  {
   "cell_type": "code",
   "execution_count": null,
   "id": "bf71ee55",
   "metadata": {},
   "outputs": [],
   "source": [
    "import numpy as np\n",
    "from collections import deque\n",
    "\n",
    "def path_exists(universe: np.ndarray, start_x: int, start_y: int, end_x: int, end_y: int) -> bool:\n",
    "    if universe[start_y, start_x] != 0 or universe[end_y, end_x] != 0:\n",
    "        return False  # start or end is not black\n",
    "\n",
    "    height, width = universe.shape\n",
    "    visited = np.zeros_like(universe, dtype=bool)\n",
    "    queue = deque([(start_x, start_y)])\n",
    "\n",
    "    directions = [(-1, 0), (1, 0), (0, -1), (0, 1)]  # left, right, up, down\n",
    "\n",
    "    while queue:\n",
    "        x, y = queue.popleft()\n",
    "        if (x, y) == (end_x, end_y):\n",
    "            return True\n",
    "\n",
    "        for dx, dy in directions:\n",
    "            nx, ny = x + dx, y + dy\n",
    "            if (0 <= nx < width) and (0 <= ny < height):\n",
    "                if universe[ny, nx] == 0 and not visited[ny, nx]:\n",
    "                    visited[ny, nx] = True\n",
    "                    queue.append((nx, ny))\n",
    "\n",
    "    return False\n"
   ]
  },
  {
   "cell_type": "markdown",
   "id": "734cf2e8",
   "metadata": {},
   "source": [
    "### Find the path and save the path to image"
   ]
  },
  {
   "cell_type": "code",
   "execution_count": null,
   "id": "5825dd78",
   "metadata": {},
   "outputs": [],
   "source": [
    "from PIL import Image\n",
    "\n",
    "def find_path(universe: np.ndarray, start, end):\n",
    "    from collections import deque\n",
    "    height, width = universe.shape\n",
    "    visited = np.zeros_like(universe, dtype=bool)\n",
    "    parent = dict()\n",
    "\n",
    "    queue = deque([start])\n",
    "    visited[start[1], start[0]] = True\n",
    "\n",
    "    directions = [(-1, 0), (1, 0), (0, -1), (0, 1)]\n",
    "\n",
    "    while queue:\n",
    "        x, y = queue.popleft()\n",
    "        if (x, y) == end:\n",
    "            # Reconstruct path\n",
    "            path = [(x, y)]\n",
    "            while (x, y) != start:\n",
    "                x, y = parent[(x, y)]\n",
    "                path.append((x, y))\n",
    "            return path[::-1]  # reverse path\n",
    "        for dx, dy in directions:\n",
    "            nx, ny = x + dx, y + dy\n",
    "            if (0 <= nx < width) and (0 <= ny < height) and universe[ny, nx] == 0 and not visited[ny, nx]:\n",
    "                visited[ny, nx] = True\n",
    "                parent[(nx, ny)] = (x, y)\n",
    "                queue.append((nx, ny))\n",
    "    return None\n",
    "\n",
    "\n",
    "def visualize_path(universe: np.ndarray, path, output_path='path_visualization.png'):\n",
    "    img = np.stack([universe]*3, axis=-1)  # convert to RGB\n",
    "    for x, y in path:\n",
    "        img[y, x] = [255, 0, 0]  # red path\n",
    "    Image.fromarray(img.astype(np.uint8)).save(output_path)\n"
   ]
  },
  {
   "cell_type": "markdown",
   "id": "cdf46038",
   "metadata": {},
   "source": [
    "### Additional Goal: Two Non-Intersecting Paths"
   ]
  },
  {
   "cell_type": "code",
   "execution_count": null,
   "id": "89b34fcb",
   "metadata": {},
   "outputs": [],
   "source": [
    "def find_two_nonintersecting_paths(universe, pair1, pair2):\n",
    "    path1 = find_path(universe, pair1[0], pair1[1])\n",
    "    if not path1:\n",
    "        return None, None\n",
    "\n",
    "    universe_copy = universe.copy()\n",
    "    for x, y in path1:\n",
    "        universe_copy[y, x] = 255  # block these pixels\n",
    "\n",
    "    path2 = find_path(universe_copy, pair2[0], pair2[1])\n",
    "    if not path2:\n",
    "        return None, None\n",
    "\n",
    "    return path1, path2\n",
    "    \n"
   ]
  },
  {
   "cell_type": "markdown",
   "id": "b9200862",
   "metadata": {},
   "source": [
    "### Testing with random point"
   ]
  },
  {
   "cell_type": "code",
   "execution_count": 10,
   "id": "3412f2a4",
   "metadata": {},
   "outputs": [
    {
     "name": "stdout",
     "output_type": "stream",
     "text": [
      "True\n"
     ]
    }
   ],
   "source": [
    "import imageio.v3 as imageio\n",
    "\n",
    "universe = imageio.imread('polygons.png')\n",
    "universe = universe[:, :, 0] if len(universe.shape) == 3 else universe  # grayscale\n",
    "\n",
    "# Basic path\n",
    "print(path_exists(universe, 10, 10, 20, 20))\n",
    "\n",
    "# Path and Visualization\n",
    "path = find_path(universe, (10, 10), (20, 20))\n",
    "if path:\n",
    "    visualize_path(universe, path)\n",
    "\n",
    "# Two non-intersecting paths\n",
    "pair1 = ((10, 10), (100, 100))\n",
    "pair2 = ((20, 20), (80, 80))\n",
    "p1, p2 = find_two_nonintersecting_paths(universe, pair1, pair2)\n",
    "if p1 and p2:\n",
    "    visualize_path(universe, p1, 'path1.png')\n",
    "    visualize_path(universe, p2, 'path2.png')\n"
   ]
  },
  {
   "cell_type": "markdown",
   "id": "6cc48ab2",
   "metadata": {},
   "source": [
    "### Tests"
   ]
  },
  {
   "cell_type": "code",
   "execution_count": 11,
   "id": "584f9f6e",
   "metadata": {},
   "outputs": [],
   "source": [
    "# Two non-intersecting paths\n",
    "pair1 = ((10, 10), (99, 99))\n",
    "pair2 = ((20, 20), (80, 80))\n",
    "p1, p2 = find_two_nonintersecting_paths(universe, pair1, pair2)\n",
    "if p1 and p2:\n",
    "    visualize_path(universe, p1, 'path1.png')\n",
    "    visualize_path(universe, p2, 'path2.png')"
   ]
  },
  {
   "cell_type": "code",
   "execution_count": 6,
   "id": "b00686e7",
   "metadata": {},
   "outputs": [
    {
     "name": "stdout",
     "output_type": "stream",
     "text": [
      "Image shape: (100, 100)\n"
     ]
    }
   ],
   "source": [
    "print(\"Image shape:\", universe.shape)\n"
   ]
  },
  {
   "cell_type": "code",
   "execution_count": 7,
   "id": "b5906821",
   "metadata": {},
   "outputs": [
    {
     "data": {
      "text/plain": [
       "array([[  0,   0,   0, ..., 255, 255, 255],\n",
       "       [  0,   0,   0, ..., 255, 255, 255],\n",
       "       [  0,   0,   0, ..., 255, 255, 255],\n",
       "       ...,\n",
       "       [  0,   0,   0, ...,   0,   0,   0],\n",
       "       [  0,   0,   0, ...,   0,   0,   0],\n",
       "       [  0,   0,   0, ...,   0,   0,   0]], dtype=uint8)"
      ]
     },
     "execution_count": 7,
     "metadata": {},
     "output_type": "execute_result"
    }
   ],
   "source": [
    "universe"
   ]
  },
  {
   "cell_type": "code",
   "execution_count": 8,
   "id": "7fff456e",
   "metadata": {},
   "outputs": [
    {
     "data": {
      "text/plain": [
       "array([[False, False, False, ..., False, False, False],\n",
       "       [False, False, False, ..., False, False, False],\n",
       "       [False, False, False, ..., False, False, False],\n",
       "       ...,\n",
       "       [False, False, False, ..., False, False, False],\n",
       "       [False, False, False, ..., False, False, False],\n",
       "       [False, False, False, ..., False, False, False]])"
      ]
     },
     "execution_count": 8,
     "metadata": {},
     "output_type": "execute_result"
    }
   ],
   "source": [
    "visited = np.zeros_like(universe, dtype=bool)\n",
    "visited"
   ]
  },
  {
   "cell_type": "code",
   "execution_count": 10,
   "id": "d8e4b18a",
   "metadata": {},
   "outputs": [
    {
     "data": {
      "text/plain": [
       "deque([(10, 10)])"
      ]
     },
     "execution_count": 10,
     "metadata": {},
     "output_type": "execute_result"
    }
   ],
   "source": [
    "queue = deque([(10, 10)])\n",
    "queue"
   ]
  },
  {
   "cell_type": "code",
   "execution_count": null,
   "id": "178c8501",
   "metadata": {},
   "outputs": [],
   "source": []
  }
 ],
 "metadata": {
  "kernelspec": {
   "display_name": "base",
   "language": "python",
   "name": "python3"
  },
  "language_info": {
   "codemirror_mode": {
    "name": "ipython",
    "version": 3
   },
   "file_extension": ".py",
   "mimetype": "text/x-python",
   "name": "python",
   "nbconvert_exporter": "python",
   "pygments_lexer": "ipython3",
   "version": "3.11.4"
  }
 },
 "nbformat": 4,
 "nbformat_minor": 5
}
